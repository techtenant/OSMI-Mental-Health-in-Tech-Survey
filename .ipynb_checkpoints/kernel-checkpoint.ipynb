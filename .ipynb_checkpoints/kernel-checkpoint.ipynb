{
 "cells": [
  {
   "cell_type": "code",
   "execution_count": null,
   "metadata": {
    "_cell_guid": "c421f975-cb61-9f44-cc97-7f2551c7c20a",
    "_uuid": "851bc4cfcd45c3c2e9afe44fa257b44e3db1ee0d"
   },
   "outputs": [],
   "source": [
    "# This Python 3 environment comes with many helpful analytics libraries installed\n",
    "# It is defined by the kaggle/python docker image: https://github.com/kaggle/docker-python\n",
    "# For example, here's several helpful packages to load in \n",
    "\n",
    "import numpy as np # linear algebra\n",
    "import pandas as pd # data processing, CSV file I/O (e.g. pd.read_csv)\n",
    "import matplotlib.pyplot as plt\n",
    "import seaborn as sns\n",
    "from collections import Counter\n",
    "%matplotlib inline\n",
    "# Input data files are available in the \"../input/\" directory.\n",
    "# For example, running this (by clicking run or pressing Shift+Enter) will list the files in the input directory\n",
    "\n",
    "from subprocess import check_output\n",
    "print(check_output([\"ls\", \"../input\"]).decode(\"utf8\"))\n",
    "\n",
    "# Any results you write to the current directory are saved as output."
   ]
  },
  {
   "cell_type": "code",
   "execution_count": null,
   "metadata": {
    "_cell_guid": "8e731ccb-2ceb-bdb9-367e-9123c1db06c9",
    "_uuid": "9d81e7285c9cdcf65cd3cdbd097cd43956f62cbc"
   },
   "outputs": [],
   "source": [
    "df = pd.read_csv('../input/survey.csv')"
   ]
  },
  {
   "cell_type": "code",
   "execution_count": null,
   "metadata": {
    "_cell_guid": "ce860a5b-954b-f8f0-21de-0ce287f7ac12",
    "_uuid": "f0b467993c0d7dd7a5b3b230587d20d3db57da94"
   },
   "outputs": [],
   "source": [
    "df.head()"
   ]
  },
  {
   "cell_type": "code",
   "execution_count": null,
   "metadata": {
    "_cell_guid": "1950fec9-47ca-9644-039d-0d1844304b47",
    "_uuid": "e392576e15048488c1370b4cc04123083a304a63"
   },
   "outputs": [],
   "source": [
    "df.info()"
   ]
  },
  {
   "cell_type": "markdown",
   "metadata": {
    "_cell_guid": "3c732b8c-3326-e5f8-78aa-2bdaaa474cdb",
    "_uuid": "354276987f54d73aefe020052ede6ec1d386ed54"
   },
   "source": [
    "# Age Distrubtion"
   ]
  },
  {
   "cell_type": "code",
   "execution_count": null,
   "metadata": {
    "_cell_guid": "292a341b-54ec-05a4-9874-4d6c9fe546e3",
    "_uuid": "46015e46899f30afee6a4a2777d72165442fcc5d"
   },
   "outputs": [],
   "source": [
    "df['Age'] = pd.to_numeric(df['Age'],errors='coerce')\n",
    "def age_process(age):\n",
    "    if age>=0 and age<=100:\n",
    "        return age\n",
    "    else:\n",
    "        return np.nan\n",
    "df['Age'] = df['Age'].apply(age_process)"
   ]
  },
  {
   "cell_type": "code",
   "execution_count": null,
   "metadata": {
    "_cell_guid": "b7e954d5-b7dd-b145-1b40-153e44b736ce",
    "_uuid": "0819d5ccb5e60af2578ece1e4186d1b9f7d12d46"
   },
   "outputs": [],
   "source": [
    "fig,ax = plt.subplots(figsize=(8,6))\n",
    "sns.distplot(df['Age'].dropna(),ax=ax,kde=False,color='#ffa726')\n",
    "plt.title('Age Distribution')\n",
    "plt.ylabel('Freq')"
   ]
  },
  {
   "cell_type": "markdown",
   "metadata": {
    "_cell_guid": "7fc2e796-e82a-2c59-eca2-fb6b262d4ca9",
    "_uuid": "a1dacb9138039e57057b510a2e440d1db9a046fe"
   },
   "source": [
    "# Top 10 Country"
   ]
  },
  {
   "cell_type": "code",
   "execution_count": null,
   "metadata": {
    "_cell_guid": "f1ec009e-d84d-6f41-2dc6-b010906602e8",
    "_uuid": "e9d91e2a1006f5763fae21d636fa276f584c4549"
   },
   "outputs": [],
   "source": [
    "country_count = Counter(df['Country'].dropna().tolist()).most_common(10)\n",
    "country_idx = [country[0] for country in country_count]\n",
    "country_val = [country[1] for country in country_count]\n",
    "fig,ax = plt.subplots(figsize=(8,6))\n",
    "sns.barplot(x = country_idx,y=country_val ,ax =ax)\n",
    "plt.title('Top ten country')\n",
    "plt.xlabel('Country')\n",
    "plt.ylabel('Count')\n",
    "ticks = plt.setp(ax.get_xticklabels(),rotation=90)"
   ]
  },
  {
   "cell_type": "code",
   "execution_count": null,
   "metadata": {
    "_cell_guid": "564b8b22-29bd-4d65-d59d-a7c32d48ce73",
    "_uuid": "4989e3a17c8dd006f23f7c9d36e3d7b2aaeb793c"
   },
   "outputs": [],
   "source": [
    "df['Timestamp'] = pd.to_datetime(df['Timestamp'],format='%Y-%m-%d')\n",
    "df['Year'] = df['Timestamp'].apply(lambda x:x.year)"
   ]
  },
  {
   "cell_type": "markdown",
   "metadata": {
    "_cell_guid": "69016e5e-4a21-c381-0040-487c03bf677a",
    "_uuid": "5952eda131539e98f0fbb8a875da9db409102166"
   },
   "source": [
    "# Treatment Distribution"
   ]
  },
  {
   "cell_type": "code",
   "execution_count": null,
   "metadata": {
    "_cell_guid": "09c4bfc2-393e-e225-7ab4-2fac470e0b0e",
    "_uuid": "30594d1a73a9a01365365535b30d8304b105635b"
   },
   "outputs": [],
   "source": [
    "sns.countplot(df['treatment'])\n",
    "plt.title('Treatement Distribution')"
   ]
  },
  {
   "cell_type": "markdown",
   "metadata": {
    "_cell_guid": "a5ca65bc-6552-7f75-6b71-0a995e199327",
    "_uuid": "00d5008bdc998cfe5f7f2e7e5eaf984513debb36"
   },
   "source": [
    "# Age vs family_history"
   ]
  },
  {
   "cell_type": "code",
   "execution_count": null,
   "metadata": {
    "_cell_guid": "f8e03968-edff-2cae-1494-f29528a044e1",
    "_uuid": "722f62c706c8cb71740929f60210a1c2734f29e8"
   },
   "outputs": [],
   "source": [
    "df['Age_Group'] = pd.cut(df['Age'].dropna(),\n",
    "                         [0,18,25,35,45,99],\n",
    "                         labels=['<18','18-24','25-34','35-44','45+'])"
   ]
  },
  {
   "cell_type": "code",
   "execution_count": null,
   "metadata": {
    "_cell_guid": "8a66a23b-6236-0af3-d7d4-a74a807597ce",
    "_uuid": "2fff462c3ecc1095c8f4ca1cb742a83112b7711c"
   },
   "outputs": [],
   "source": [
    "fig,ax = plt.subplots(figsize=(8,6))\n",
    "sns.countplot(data=df,x = 'Age_Group',hue= 'family_history',ax=ax)\n",
    "plt.title('Age vs family_history')"
   ]
  },
  {
   "cell_type": "markdown",
   "metadata": {
    "_cell_guid": "7bd36d81-8942-3608-67ac-bcd66798d161",
    "_uuid": "321398524b69d823da98ad86f8a9e32a2c85bac0"
   },
   "source": [
    "# Age Group vs Treatment"
   ]
  },
  {
   "cell_type": "code",
   "execution_count": null,
   "metadata": {
    "_cell_guid": "889278e8-c10a-1882-ec93-a6e552afd337",
    "_uuid": "47290dc68a8ffdc054bb6264b846b26b490c1c4a"
   },
   "outputs": [],
   "source": [
    "fig,ax =plt.subplots(figsize=(8,6))\n",
    "sns.countplot(data = df,x = 'Age_Group', hue='treatment')\n",
    "plt.title('Age Group vs Treatment')"
   ]
  },
  {
   "cell_type": "markdown",
   "metadata": {
    "_cell_guid": "168c0121-b8d7-2e1d-478c-fffc392229c1",
    "_uuid": "7f0ed9c430ff9977eb580d24e67854b6f49e42af"
   },
   "source": [
    "# Work Interfere Distribution"
   ]
  },
  {
   "cell_type": "code",
   "execution_count": null,
   "metadata": {
    "_cell_guid": "b07aea14-65af-ad19-fc2f-a2ecea172b95",
    "_uuid": "c518256db2ca3f11de972357288a33a4dd946560"
   },
   "outputs": [],
   "source": [
    "fig,ax  =plt.subplots(figsize=(8,6))\n",
    "sns.countplot(df['work_interfere'].dropna(),ax=ax)\n",
    "plt.title('Work interfere Distribution')\n",
    "plt.ylabel('Count')"
   ]
  },
  {
   "cell_type": "markdown",
   "metadata": {
    "_cell_guid": "b12b0b63-2de0-d6c4-b14b-ae9ec0746e65",
    "_uuid": "1dbedd5ec6f19e21828fa9604c94b8262cf483f1"
   },
   "source": [
    "# Employee group ratio"
   ]
  },
  {
   "cell_type": "code",
   "execution_count": null,
   "metadata": {
    "_cell_guid": "8bfead96-d9ab-6c34-634d-7f14939ddc68",
    "_uuid": "e8438c637c3cfe46fce17f89b5e788460bdc37f8"
   },
   "outputs": [],
   "source": [
    "fig,ax = plt.subplots(figsize=(8,6))\n",
    "total = df['no_employees'].dropna().shape[0] * 1.0\n",
    "employee_count  = Counter(df['no_employees'].dropna().tolist())\n",
    "for key,val in employee_count.items():\n",
    "    employee_count[key] = employee_count[key] / total\n",
    "employee_group = np.asarray(list(employee_count.keys()))\n",
    "employee_val = np.asarray(list(employee_count.values()))\n",
    "sns.barplot(x = employee_group , y = employee_val)\n",
    "plt.title('employee group ratio')\n",
    "plt.ylabel('ratio')\n",
    "plt.xlabel('employee group')"
   ]
  },
  {
   "cell_type": "code",
   "execution_count": null,
   "metadata": {
    "_cell_guid": "8db51946-cc5d-8b0c-1be2-ae58e4cd7235",
    "_uuid": "a6f20ee3867d5e45b590d85ae5adc49da99d6581"
   },
   "outputs": [],
   "source": [
    "fig,ax = plt.subplots(figsize=(8,6))\n",
    "sns.countplot(data = df,x = 'no_employees', hue ='tech_company',ax=ax )\n",
    "ticks = plt.setp(ax.get_xticklabels(),rotation=45)\n",
    "plt.title('no_employee vs tech_company')"
   ]
  },
  {
   "cell_type": "markdown",
   "metadata": {
    "_cell_guid": "b12d6067-f8d6-e1c8-7b20-da3143faad15",
    "_uuid": "e5159b5c5a4c1ed297722d95004f3e140fcde64d"
   },
   "source": [
    "# remote work vs employee group"
   ]
  },
  {
   "cell_type": "code",
   "execution_count": null,
   "metadata": {
    "_cell_guid": "579b585d-6f58-b6be-595c-36b2b719f8ff",
    "_uuid": "cf51a5200ef53fc7e352c3206fa5cd2e96a4e90c"
   },
   "outputs": [],
   "source": [
    "fig,ax = plt.subplots(figsize=(8,6))\n",
    "sns.countplot(data = df,x = 'no_employees', hue ='remote_work',ax=ax )\n",
    "ticks = plt.setp(ax.get_xticklabels(),rotation=45)\n",
    "plt.title('no_employee vs remote_work')"
   ]
  },
  {
   "cell_type": "code",
   "execution_count": null,
   "metadata": {
    "_cell_guid": "c9cac456-c884-4acd-0d2e-8fb9e7762da2",
    "_uuid": "7391ab45a8f13465df7cccb37acc1178c6f3c8a6"
   },
   "outputs": [],
   "source": []
  },
  {
   "cell_type": "code",
   "execution_count": null,
   "metadata": {},
   "outputs": [],
   "source": []
  }
 ],
 "metadata": {
  "_change_revision": 0,
  "_is_fork": false,
  "kernelspec": {
   "display_name": "Python 3",
   "language": "python",
   "name": "python3"
  },
  "language_info": {
   "codemirror_mode": {
    "name": "ipython",
    "version": 3
   },
   "file_extension": ".py",
   "mimetype": "text/x-python",
   "name": "python",
   "nbconvert_exporter": "python",
   "pygments_lexer": "ipython3",
   "version": "3.6.5"
  }
 },
 "nbformat": 4,
 "nbformat_minor": 1
}
